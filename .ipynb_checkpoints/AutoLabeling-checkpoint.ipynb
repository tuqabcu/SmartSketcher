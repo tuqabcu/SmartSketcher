{
 "cells": [
  {
   "cell_type": "code",
   "execution_count": 1,
   "id": "e74e6f34",
   "metadata": {},
   "outputs": [],
   "source": [
    "import torch\n",
    "from matplotlib import pyplot as plt\n",
    "import numpy as np\n",
    "import cv2"
   ]
  },
  {
   "cell_type": "code",
   "execution_count": 2,
   "id": "efc9f361",
   "metadata": {},
   "outputs": [
    {
     "name": "stderr",
     "output_type": "stream",
     "text": [
      "Downloading: \"https://github.com/ultralytics/yolov5/archive/master.zip\" to C:\\Users\\user/.cache\\torch\\hub\\master.zip\n",
      "YOLOv5  2022-6-23 Python-3.9.5 torch-1.8.2+cpu CPU\n",
      "\n",
      "Fusing layers... \n",
      "Model summary: 213 layers, 7018216 parameters, 0 gradients, 15.8 GFLOPs\n",
      "Adding AutoShape... \n"
     ]
    }
   ],
   "source": [
    "model = torch.hub.load('ultralytics/yolov5', 'custom', path='yolov5/runs/train/exp17/weights/last.pt', force_reload=True)"
   ]
  },
  {
   "cell_type": "code",
   "execution_count": 3,
   "id": "e299f869",
   "metadata": {},
   "outputs": [
    {
     "data": {
      "text/plain": [
       "array([[    0.70475,     0.51572,     0.88441,     0.74237,     0.95297,           2],\n",
       "       [    0.19502,     0.21499,     0.36938,      0.4401,     0.93595,           2],\n",
       "       [    0.64121,     0.21538,     0.88086,     0.44601,     0.92761,           2],\n",
       "       [    0.36511,     0.34284,     0.41352,     0.39261,     0.91325,           0],\n",
       "       [    0.41586,     0.17197,     0.46575,       0.227,     0.91127,           0],\n",
       "       [    0.74641,     0.51483,     0.79756,     0.57599,     0.90453,           0],\n",
       "       [     0.7078,     0.57758,     0.76273,     0.63228,     0.89164,           0],\n",
       "       [    0.73758,     0.21405,     0.80759,     0.23874,     0.88546,           1],\n",
       "       [    0.36622,     0.29821,     0.41407,     0.34672,     0.88503,           0],\n",
       "       [     0.3683,     0.49146,     0.41334,     0.53776,     0.86252,           0],\n",
       "       [    0.86671,     0.55694,     0.88556,     0.58547,     0.82489,           1],\n",
       "       [    0.86712,     0.38134,     0.88679,     0.40949,     0.82425,           1],\n",
       "       [    0.67281,     0.42582,     0.73302,     0.47534,     0.82316,           0],\n",
       "       [    0.50622,     0.21257,     0.58449,     0.23789,     0.80298,           1],\n",
       "       [    0.15474,     0.48707,     0.19751,     0.53641,     0.80231,           0],\n",
       "       [    0.36566,     0.52425,     0.55745,     0.70682,     0.79575,           2],\n",
       "       [    0.65527,     0.74334,     0.70584,      0.7971,     0.78873,           0],\n",
       "       [    0.76347,      0.7248,     0.83171,     0.74615,     0.74333,           1],\n",
       "       [    0.24345,     0.21726,     0.31137,     0.23988,      0.7091,           1]], dtype=float32)"
      ]
     },
     "execution_count": 3,
     "metadata": {},
     "output_type": "execute_result"
    }
   ],
   "source": [
    "img = 'yolov5/data/images/05.png'\n",
    "model.conf = 0.7\n",
    "results = model(img)\n",
    "results.xyxyn[0][:, :].numpy()"
   ]
  },
  {
   "cell_type": "code",
   "execution_count": null,
   "id": "cc4fedd7",
   "metadata": {},
   "outputs": [],
   "source": []
  }
 ],
 "metadata": {
  "kernelspec": {
   "display_name": "Python 3 (ipykernel)",
   "language": "python",
   "name": "python3"
  },
  "language_info": {
   "codemirror_mode": {
    "name": "ipython",
    "version": 3
   },
   "file_extension": ".py",
   "mimetype": "text/x-python",
   "name": "python",
   "nbconvert_exporter": "python",
   "pygments_lexer": "ipython3",
   "version": "3.9.5"
  }
 },
 "nbformat": 4,
 "nbformat_minor": 5
}
